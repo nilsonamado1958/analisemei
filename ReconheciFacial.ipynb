{
  "cells": [
    {
      "cell_type": "markdown",
      "metadata": {
        "colab_type": "text",
        "id": "view-in-github"
      },
      "source": [
        "<a href=\"https://colab.research.google.com/github/adm-nas/analisemei/blob/main/ReconheciFacial.ipynb\" target=\"_parent\"><img src=\"https://colab.research.google.com/assets/colab-badge.svg\" alt=\"Open In Colab\"/></a>"
      ]
    },
    {
      "cell_type": "code",
      "execution_count": 1,
      "metadata": {
        "id": "7wg4qBYOegHq"
      },
      "outputs": [],
      "source": [
        "import cv2"
      ]
    },
    {
      "cell_type": "code",
      "execution_count": 2,
      "metadata": {
        "colab": {
          "base_uri": "https://localhost:8080/"
        },
        "id": "dJctCsnKgGj3",
        "outputId": "227fbbef-8a37-4508-ca41-7ac2a6dd62b6"
      },
      "outputs": [
        {
          "name": "stderr",
          "output_type": "stream",
          "text": [
            "\n",
            "[notice] A new release of pip is available: 24.0 -> 24.1.2\n",
            "[notice] To update, run: python.exe -m pip install --upgrade pip\n"
          ]
        },
        {
          "name": "stdout",
          "output_type": "stream",
          "text": [
            "Requirement already satisfied: mediapipe in c:\\users\\nilson amado\\appdata\\local\\programs\\python\\python312\\lib\\site-packages (0.10.14)\n",
            "Requirement already satisfied: absl-py in c:\\users\\nilson amado\\appdata\\local\\programs\\python\\python312\\lib\\site-packages (from mediapipe) (2.1.0)\n",
            "Requirement already satisfied: attrs>=19.1.0 in c:\\users\\nilson amado\\appdata\\local\\programs\\python\\python312\\lib\\site-packages (from mediapipe) (23.2.0)\n",
            "Requirement already satisfied: flatbuffers>=2.0 in c:\\users\\nilson amado\\appdata\\local\\programs\\python\\python312\\lib\\site-packages (from mediapipe) (24.3.25)\n",
            "Requirement already satisfied: jax in c:\\users\\nilson amado\\appdata\\local\\programs\\python\\python312\\lib\\site-packages (from mediapipe) (0.4.30)\n",
            "Requirement already satisfied: jaxlib in c:\\users\\nilson amado\\appdata\\local\\programs\\python\\python312\\lib\\site-packages (from mediapipe) (0.4.30)\n",
            "Requirement already satisfied: matplotlib in c:\\users\\nilson amado\\appdata\\local\\programs\\python\\python312\\lib\\site-packages (from mediapipe) (3.9.0)\n",
            "Requirement already satisfied: numpy in c:\\users\\nilson amado\\appdata\\local\\programs\\python\\python312\\lib\\site-packages (from mediapipe) (1.26.4)\n",
            "Requirement already satisfied: opencv-contrib-python in c:\\users\\nilson amado\\appdata\\local\\programs\\python\\python312\\lib\\site-packages (from mediapipe) (4.10.0.84)\n",
            "Requirement already satisfied: protobuf<5,>=4.25.3 in c:\\users\\nilson amado\\appdata\\local\\programs\\python\\python312\\lib\\site-packages (from mediapipe) (4.25.3)\n",
            "Requirement already satisfied: sounddevice>=0.4.4 in c:\\users\\nilson amado\\appdata\\local\\programs\\python\\python312\\lib\\site-packages (from mediapipe) (0.4.7)\n",
            "Requirement already satisfied: CFFI>=1.0 in c:\\users\\nilson amado\\appdata\\local\\programs\\python\\python312\\lib\\site-packages (from sounddevice>=0.4.4->mediapipe) (1.16.0)\n",
            "Requirement already satisfied: ml-dtypes>=0.2.0 in c:\\users\\nilson amado\\appdata\\local\\programs\\python\\python312\\lib\\site-packages (from jax->mediapipe) (0.4.0)\n",
            "Requirement already satisfied: opt-einsum in c:\\users\\nilson amado\\appdata\\local\\programs\\python\\python312\\lib\\site-packages (from jax->mediapipe) (3.3.0)\n",
            "Requirement already satisfied: scipy>=1.9 in c:\\users\\nilson amado\\appdata\\local\\programs\\python\\python312\\lib\\site-packages (from jax->mediapipe) (1.14.0)\n",
            "Requirement already satisfied: contourpy>=1.0.1 in c:\\users\\nilson amado\\appdata\\local\\programs\\python\\python312\\lib\\site-packages (from matplotlib->mediapipe) (1.2.1)\n",
            "Requirement already satisfied: cycler>=0.10 in c:\\users\\nilson amado\\appdata\\local\\programs\\python\\python312\\lib\\site-packages (from matplotlib->mediapipe) (0.12.1)\n",
            "Requirement already satisfied: fonttools>=4.22.0 in c:\\users\\nilson amado\\appdata\\local\\programs\\python\\python312\\lib\\site-packages (from matplotlib->mediapipe) (4.53.0)\n",
            "Requirement already satisfied: kiwisolver>=1.3.1 in c:\\users\\nilson amado\\appdata\\local\\programs\\python\\python312\\lib\\site-packages (from matplotlib->mediapipe) (1.4.5)\n",
            "Requirement already satisfied: packaging>=20.0 in c:\\users\\nilson amado\\appdata\\local\\programs\\python\\python312\\lib\\site-packages (from matplotlib->mediapipe) (24.0)\n",
            "Requirement already satisfied: pillow>=8 in c:\\users\\nilson amado\\appdata\\local\\programs\\python\\python312\\lib\\site-packages (from matplotlib->mediapipe) (10.3.0)\n",
            "Requirement already satisfied: pyparsing>=2.3.1 in c:\\users\\nilson amado\\appdata\\local\\programs\\python\\python312\\lib\\site-packages (from matplotlib->mediapipe) (3.1.2)\n",
            "Requirement already satisfied: python-dateutil>=2.7 in c:\\users\\nilson amado\\appdata\\local\\programs\\python\\python312\\lib\\site-packages (from matplotlib->mediapipe) (2.9.0.post0)\n",
            "Requirement already satisfied: pycparser in c:\\users\\nilson amado\\appdata\\local\\programs\\python\\python312\\lib\\site-packages (from CFFI>=1.0->sounddevice>=0.4.4->mediapipe) (2.22)\n",
            "Requirement already satisfied: six>=1.5 in c:\\users\\nilson amado\\appdata\\local\\programs\\python\\python312\\lib\\site-packages (from python-dateutil>=2.7->matplotlib->mediapipe) (1.16.0)\n"
          ]
        }
      ],
      "source": [
        "!pip install mediapipe"
      ]
    },
    {
      "cell_type": "code",
      "execution_count": 3,
      "metadata": {
        "id": "UDzgYY7Xg0NW"
      },
      "outputs": [],
      "source": [
        "import mediapipe as mp"
      ]
    },
    {
      "cell_type": "code",
      "execution_count": 4,
      "metadata": {
        "id": "HrpJxqc1hLqg"
      },
      "outputs": [],
      "source": [
        "webcam = cv2.VideoCapture(0)"
      ]
    },
    {
      "cell_type": "code",
      "execution_count": 5,
      "metadata": {
        "id": "e3R93Qimhtxo"
      },
      "outputs": [],
      "source": [
        "reconhecimento_rosto = mp.solutions.face_detection\n",
        "desenho = mp.solutions.drawing_styles\n",
        "reconhecedor_rosto = reconhecimento_rosto.FaceDetection()"
      ]
    },
    {
      "cell_type": "code",
      "execution_count": 7,
      "metadata": {
        "colab": {
          "base_uri": "https://localhost:8080/"
        },
        "id": "GsMrn8sujgXv",
        "outputId": "93c66127-51fc-49b1-d857-00a3caf9c721"
      },
      "outputs": [
        {
          "ename": "AttributeError",
          "evalue": "module 'mediapipe.python.solutions.drawing_styles' has no attribute 'draw_detection'",
          "output_type": "error",
          "traceback": [
            "\u001b[1;31m---------------------------------------------------------------------------\u001b[0m",
            "\u001b[1;31mAttributeError\u001b[0m                            Traceback (most recent call last)",
            "Cell \u001b[1;32mIn[7], line 10\u001b[0m\n\u001b[0;32m      8\u001b[0m \u001b[38;5;28;01mif\u001b[39;00m lista_rostos\u001b[38;5;241m.\u001b[39mdetections:\n\u001b[0;32m      9\u001b[0m     \u001b[38;5;28;01mfor\u001b[39;00m rosto \u001b[38;5;129;01min\u001b[39;00m lista_rostos\u001b[38;5;241m.\u001b[39mdetections:\n\u001b[1;32m---> 10\u001b[0m         \u001b[43mdesenho\u001b[49m\u001b[38;5;241;43m.\u001b[39;49m\u001b[43mdraw_detection\u001b[49m(imagem, rosto)\n\u001b[0;32m     12\u001b[0m cv2\u001b[38;5;241m.\u001b[39minshow(\u001b[38;5;124m\"\u001b[39m\u001b[38;5;124mRostos na sua webcam\u001b[39m\u001b[38;5;124m\"\u001b[39m, imagem)\n\u001b[0;32m     13\u001b[0m \u001b[38;5;28;01mif\u001b[39;00m cv2\u001b[38;5;241m.\u001b[39mwaitKey(\u001b[38;5;241m5\u001b[39m) \u001b[38;5;241m==\u001b[39m \u001b[38;5;241m27\u001b[39m:\n",
            "\u001b[1;31mAttributeError\u001b[0m: module 'mediapipe.python.solutions.drawing_styles' has no attribute 'draw_detection'"
          ]
        }
      ],
      "source": [
        "while webcam.isOpened():\n",
        "    validacao, frame = webcam.read()\n",
        "    if not validacao:\n",
        "        break\n",
        "    imagem = frame\n",
        "    lista_rostos = reconhecedor_rosto.process(imagem)\n",
        "\n",
        "    if lista_rostos.detections:\n",
        "        for rosto in lista_rostos.detections:\n",
        "            desenho.draw_detection(imagem, rosto)\n",
        "\n",
        "    cv2.inshow(\"Rostos na sua webcam\", imagem)\n",
        "    if cv2.waitKey(5) == 27:\n",
        "        break\n",
        "\n",
        "webcam.release()\n",
        "cv2.destroyWindow"
      ]
    }
  ],
  "metadata": {
    "colab": {
      "authorship_tag": "ABX9TyN5XBQCsbcYeD/WBf5HkS8V",
      "include_colab_link": true,
      "provenance": []
    },
    "kernelspec": {
      "display_name": "Python 3",
      "name": "python3"
    },
    "language_info": {
      "codemirror_mode": {
        "name": "ipython",
        "version": 3
      },
      "file_extension": ".py",
      "mimetype": "text/x-python",
      "name": "python",
      "nbconvert_exporter": "python",
      "pygments_lexer": "ipython3",
      "version": "3.12.4"
    }
  },
  "nbformat": 4,
  "nbformat_minor": 0
}
